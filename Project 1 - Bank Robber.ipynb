{
 "cells": [
  {
   "cell_type": "markdown",
   "metadata": {},
   "source": [
    "## Imports:"
   ]
  },
  {
   "cell_type": "code",
   "execution_count": 22,
   "metadata": {},
   "outputs": [],
   "source": [
    "import pandas as pd\n",
    "import numpy as np\n",
    "import seaborn as sns\n",
    "import scipy as sp"
   ]
  },
  {
   "cell_type": "markdown",
   "metadata": {},
   "source": [
    "## Constants:"
   ]
  },
  {
   "cell_type": "code",
   "execution_count": 2,
   "metadata": {},
   "outputs": [],
   "source": [
    "# Maximum alloted time:\n",
    "MAX_TIME = 24\n",
    "\n",
    "# Helicopter coordinates:\n",
    "HELICOPTER = {\"x\": 0, \"y\": 0}\n",
    "\n",
    "# Travelling speed: \n",
    "SPEED = 30"
   ]
  },
  {
   "cell_type": "markdown",
   "metadata": {},
   "source": [
    "## Functions:"
   ]
  },
  {
   "cell_type": "code",
   "execution_count": 3,
   "metadata": {},
   "outputs": [],
   "source": [
    "def get_to_da_choppa(x, y, helo = HELICOPTER):\n",
    "    return ((x - helo[\"x\"]) ** 2 + (y - helo[\"y\"]) ** 2) ** 0.5"
   ]
  },
  {
   "cell_type": "code",
   "execution_count": 39,
   "metadata": {},
   "outputs": [],
   "source": [
    "def travel_time(distance):\n",
    "    return distance / SPEED"
   ]
  },
  {
   "cell_type": "markdown",
   "metadata": {},
   "source": [
    "## Setup:"
   ]
  },
  {
   "cell_type": "code",
   "execution_count": 5,
   "metadata": {},
   "outputs": [],
   "source": [
    "# Getting all the banks:\n",
    "banks = pd.read_csv(\"C:/Users/rando/Desktop/data-science/m1-13-project1/bank_data.csv\")\n",
    "\n",
    "# Creating values for new columns:\n",
    "distance_to_helicopter = []\n",
    "money_time = []\n",
    "\n",
    "for i in range(len(banks)):\n",
    "    distance_to_helicopter.append(get_to_da_choppa(banks.loc[i, \"x_coordinate\"], banks.loc[i, \"y_coordinate\"]))\n",
    "    money_time.append(banks.loc[i, \"money\"] / banks.loc[i, \"time (hr)\"])\n",
    "    \n",
    "# Inserting new columns:\n",
    "\n",
    "# Distance to helicopter between each bank\n",
    "banks.insert(5, \"distance_to_chopper\", distance_to_helicopter)\n",
    "\n",
    "# Ratio of money/time\n",
    "banks.insert(6, \"ratio\", money_time)"
   ]
  },
  {
   "cell_type": "code",
   "execution_count": 36,
   "metadata": {},
   "outputs": [],
   "source": [
    "# Option 1 - Richest banks:\n",
    "rich = banks.sort_values(\"money\", ascending = False).reset_index(drop = True)\n",
    "\n",
    "# Option 2 - Quickest banks:\n",
    "quick = banks.sort_values(\"time (hr)\").reset_index(drop = True)\n",
    "\n",
    "# Option 3 - Closest banks:\n",
    "close = banks.sort_values(\"distance_to_chopper\").reset_index(drop = True)\n",
    "\n",
    "# Option 4 - Furthest banks: \n",
    "far = banks.sort_values(\"distance_to_chopper\", ascending = False).reset_index(drop = True)\n",
    "\n",
    "# Option 5 - Best ratio money/time:\n",
    "ratio = banks.sort_values(\"ratio\", ascending = False).reset_index(drop = True)\n",
    "\n",
    "# Option 6 - Random!\n",
    "random = banks.sample(frac = 1).reset_index(drop = True)\n",
    "\n",
    "# Option 7 - Ratio v 2.0:\n",
    "ratio2 = ratio.loc[(ratio[\"money\"] > 60000)].reset_index(drop = True)"
   ]
  },
  {
   "cell_type": "code",
   "execution_count": 37,
   "metadata": {},
   "outputs": [],
   "source": [
    "ratio.insert(7, \"distance\", 0)\n",
    "ratio.insert(8, \"super ratio\", 0)"
   ]
  },
  {
   "cell_type": "code",
   "execution_count": 32,
   "metadata": {},
   "outputs": [
    {
     "ename": "ValueError",
     "evalue": "A 2-dimensional array must be passed.",
     "output_type": "error",
     "traceback": [
      "\u001b[1;31m---------------------------------------------------------------------------\u001b[0m",
      "\u001b[1;31mValueError\u001b[0m                                Traceback (most recent call last)",
      "\u001b[1;32m<ipython-input-32-b4b0f910d62f>\u001b[0m in \u001b[0;36m<module>\u001b[1;34m\u001b[0m\n\u001b[1;32m----> 1\u001b[1;33m \u001b[0msp\u001b[0m\u001b[1;33m.\u001b[0m\u001b[0mspatial\u001b[0m\u001b[1;33m.\u001b[0m\u001b[0mdistance\u001b[0m\u001b[1;33m.\u001b[0m\u001b[0msquareform\u001b[0m\u001b[1;33m(\u001b[0m\u001b[0msp\u001b[0m\u001b[1;33m.\u001b[0m\u001b[0mspatial\u001b[0m\u001b[1;33m.\u001b[0m\u001b[0mdistance\u001b[0m\u001b[1;33m.\u001b[0m\u001b[0mpdist\u001b[0m\u001b[1;33m(\u001b[0m\u001b[0mratio\u001b[0m\u001b[1;33m.\u001b[0m\u001b[0mx_coordinate\u001b[0m\u001b[1;33m,\u001b[0m \u001b[0mratio\u001b[0m\u001b[1;33m.\u001b[0m\u001b[0my_coordinate\u001b[0m\u001b[1;33m)\u001b[0m\u001b[1;33m)\u001b[0m\u001b[1;33m\u001b[0m\u001b[1;33m\u001b[0m\u001b[0m\n\u001b[0m",
      "\u001b[1;32m~\\anaconda3\\lib\\site-packages\\scipy\\spatial\\distance.py\u001b[0m in \u001b[0;36mpdist\u001b[1;34m(X, metric, *args, **kwargs)\u001b[0m\n\u001b[0;32m   1997\u001b[0m     \u001b[0ms\u001b[0m \u001b[1;33m=\u001b[0m \u001b[0mX\u001b[0m\u001b[1;33m.\u001b[0m\u001b[0mshape\u001b[0m\u001b[1;33m\u001b[0m\u001b[1;33m\u001b[0m\u001b[0m\n\u001b[0;32m   1998\u001b[0m     \u001b[1;32mif\u001b[0m \u001b[0mlen\u001b[0m\u001b[1;33m(\u001b[0m\u001b[0ms\u001b[0m\u001b[1;33m)\u001b[0m \u001b[1;33m!=\u001b[0m \u001b[1;36m2\u001b[0m\u001b[1;33m:\u001b[0m\u001b[1;33m\u001b[0m\u001b[1;33m\u001b[0m\u001b[0m\n\u001b[1;32m-> 1999\u001b[1;33m         \u001b[1;32mraise\u001b[0m \u001b[0mValueError\u001b[0m\u001b[1;33m(\u001b[0m\u001b[1;34m'A 2-dimensional array must be passed.'\u001b[0m\u001b[1;33m)\u001b[0m\u001b[1;33m\u001b[0m\u001b[1;33m\u001b[0m\u001b[0m\n\u001b[0m\u001b[0;32m   2000\u001b[0m \u001b[1;33m\u001b[0m\u001b[0m\n\u001b[0;32m   2001\u001b[0m     \u001b[0mm\u001b[0m\u001b[1;33m,\u001b[0m \u001b[0mn\u001b[0m \u001b[1;33m=\u001b[0m \u001b[0ms\u001b[0m\u001b[1;33m\u001b[0m\u001b[1;33m\u001b[0m\u001b[0m\n",
      "\u001b[1;31mValueError\u001b[0m: A 2-dimensional array must be passed."
     ]
    }
   ],
   "source": [
    "sp.spatial.distance.squareform(sp.spatial.distance.pdist(ratio.x_coordinate, ratio.y_coordinate))"
   ]
  },
  {
   "cell_type": "markdown",
   "metadata": {},
   "source": [
    "## Algorithm:"
   ]
  },
  {
   "cell_type": "code",
   "execution_count": 42,
   "metadata": {},
   "outputs": [],
   "source": [
    "def robbery(df):\n",
    "    \n",
    "    # results variables\n",
    "    banks_robbed = []\n",
    "    total = 0\n",
    "    time = 0\n",
    "    \n",
    "    # next targetted bank, default value is starting bank\n",
    "    next_bank = df.loc[0, \"id\"]\n",
    "    \n",
    "    # main loop\n",
    "    for i in range(len(df)):\n",
    "        \n",
    "        current_bank = df.loc[i, \"id\"]\n",
    "        \n",
    "        # check if the bank we're looking at is our next target\n",
    "        if current_bank == next_bank:\n",
    "            \n",
    "            #################\n",
    "            # Current Bank  #\n",
    "            #################\n",
    "            \n",
    "            # distance to helicopter\n",
    "            x = df.loc[i, \"x_coordinate\"]\n",
    "            y = df.loc[i, \"y_coordinate\"]\n",
    "            distance = get_to_da_choppa(x, y)\n",
    "\n",
    "            # travel time to helicopter\n",
    "            helicopter = travel_time(distance)\n",
    "            \n",
    "            # time it would take to rob the bank\n",
    "            rob = df.loc[i, \"time (hr)\"]\n",
    "\n",
    "            # check if current time taken + time to rob + time to travel would land us in jail or not\n",
    "            if time + helicopter + rob < MAX_TIME:\n",
    "\n",
    "                time += rob\n",
    "                banks_robbed.append(current_bank)\n",
    "                total += df.loc[i, \"money\"]\n",
    "            \n",
    "            #################\n",
    "            #   Next Bank   #\n",
    "            #################\n",
    "            \n",
    "            # check for next target\n",
    "            for j in range(i + 1, len(df)):\n",
    "\n",
    "                # values for the next bank\n",
    "                next_x = df.loc[j, \"x_coordinate\"]\n",
    "                next_y = df.loc[j, \"y_coordinate\"]\n",
    "                rob_next = df.loc[j, \"time (hr)\"]\n",
    "\n",
    "                # travel time between current and next bank\n",
    "                distance_between = ((next_x - x) ** 2 + (next_y - y) ** 2) ** 0.5\n",
    "                travel_next = travel_time(distance_between)\n",
    "\n",
    "                # travel time between next bank and helicopter\n",
    "                to_helicopter = get_to_da_choppa(next_x, next_y)\n",
    "                helicopter_next = travel_time(to_helicopter)\n",
    "\n",
    "                # check to see if we have enough time for everything\n",
    "                if time + rob_next + travel_next + helicopter_next < MAX_TIME:\n",
    "                    \n",
    "                    time += travel_next\n",
    "                    next_bank = df.loc[j, \"id\"]\n",
    "                    \n",
    "                    # next target found, break the loop\n",
    "                    break\n",
    "            \n",
    "            # if no next target, return to the helicopter\n",
    "            if next_bank == current_bank:\n",
    "                time += helicopter\n",
    "                \n",
    "                # no new target, break for loop\n",
    "                break\n",
    "            \n",
    "    return f\"You have visited {len(banks_robbed)} banks: {banks_robbed} and stole {total}$ in {time} hours\""
   ]
  },
  {
   "cell_type": "markdown",
   "metadata": {},
   "source": [
    "## Execution: "
   ]
  },
  {
   "cell_type": "code",
   "execution_count": 53,
   "metadata": {},
   "outputs": [
    {
     "name": "stdout",
     "output_type": "stream",
     "text": [
      "Option 1: Most valuable banks\n",
      "Results:\n",
      "You have visited 28 banks: [4848, 7265, 8125, 5156, 6439, 4937, 2707, 3061, 5884, 7421, 7963, 6317, 6019, 6333, 8301, 2524, 1447, 1437, 5176, 3008, 8066, 6478, 8841, 6694, 4789, 7760, 6281, 6104] and stole 2835600$ in 23.983292036237216 hours \n",
      "\n",
      "Option 2: The fastest banks\n",
      "Results:\n",
      "You have visited 128 banks: [8579, 3926, 3613, 3803, 8550, 5725, 1424, 2442, 6528, 9546, 1733, 9583, 4757, 209, 6054, 9195, 4465, 4725, 7343, 4987, 4218, 9529, 7157, 7622, 2194, 3914, 1914, 4364, 8286, 2928, 6401, 4499, 3044, 3798, 5158, 1058, 2932, 5933, 8436, 6566, 4773, 7342, 790, 2161, 6022, 4762, 865, 2827, 2568, 4572, 70, 5732, 9401, 6764, 9241, 524, 6097, 7544, 4274, 1997, 8562, 3466, 2741, 6987, 1611, 8690, 487, 214, 5135, 3582, 8206, 6979, 1874, 2656, 3859, 4828, 2559, 9309, 4605, 6434, 4345, 8022, 5903, 5399, 7106, 4410, 1473, 6234, 4477, 9202, 3150, 7560, 9304, 7434, 9915, 8784, 7258, 58, 8313, 4054, 8966, 5609, 8849, 1222, 9687, 1760, 1757, 2287, 3499, 6468, 3423, 3089, 8469, 433, 9881, 5036, 9736, 4674, 2980, 5627, 507, 746, 9228, 3501, 4794, 231, 7074, 3025] and stole 2580800$ in 23.985410968115996 hours \n",
      "\n",
      "Option 3: The closest banks\n",
      "Results:\n",
      "You have visited 32 banks: [4765, 3936, 8789, 1212, 5435, 4970, 6131, 1466, 7271, 9673, 9348, 5046, 7718, 485, 6376, 1359, 1827, 7091, 1784, 727, 8021, 9689, 7312, 1738, 656, 2366, 9091, 3859, 1249, 6595, 3971, 1404] and stole 559200$ in 23.99517741069997 hours \n",
      "\n",
      "Option 4: The furthest banks\n",
      "Results:\n",
      "You have visited 21 banks: [7619, 1042, 1988, 7831, 8110, 9620, 8978, 5224, 2736, 6822, 5209, 789, 8767, 132, 3430, 3343, 8464, 5825, 3352, 6561, 209] and stole 352500$ in 23.999341117468422 hours \n",
      "\n",
      "Option 5: The best money/time ratio\n",
      "Results:\n",
      "You have visited 131 banks: [3613, 9546, 3803, 6528, 9583, 5933, 9195, 4757, 8550, 4499, 9241, 7343, 3798, 7544, 4762, 8436, 8562, 6097, 487, 2928, 5135, 865, 3914, 4987, 3466, 7560, 8579, 8690, 8469, 433, 524, 6468, 1914, 1757, 8287, 7258, 4725, 8206, 4605, 7064, 3926, 9401, 9736, 2331, 9653, 7074, 2346, 8966, 4696, 8022, 4789, 6740, 9881, 70, 2656, 951, 209, 58, 9228, 3193, 8525, 5610, 2037, 4287, 6022, 2827, 8849, 9378, 6104, 2741, 7701, 8355, 5563, 3005, 7665, 6987, 5719, 2729, 1997, 8286, 4906, 613, 790, 7087, 5126, 5562, 3516, 2243, 6759, 3026, 1372, 2442, 1733, 8375, 7764, 7649, 7689, 9880, 3297, 4794, 3089, 7583, 5725, 517, 4345, 2521, 2190, 5155, 9049, 444, 6712, 8908, 8703, 7877, 7595, 8231, 9275, 4465, 5295, 5296, 299, 8846, 6254, 507, 6535, 6216, 279, 6375, 6764, 754, 3859] and stole 6428300$ in 23.99723811052699 hours \n",
      "\n",
      "Option 6: Random order!\n",
      "Results:\n",
      "You have visited 32 banks: [8086, 6098, 833, 6183, 6740, 3200, 5960, 7367, 8308, 3, 477, 7162, 3069, 4019, 8503, 4903, 9750, 3866, 5735, 277, 8666, 9225, 5833, 3111, 175, 4970, 7540, 2475, 1357, 4335, 6528, 1997] and stole 728400$ in 23.998867760979422 hours \n",
      "\n",
      "Option 7: Filtered ratio\n",
      "Results:\n",
      "You have visited 91 banks: [9546, 5933, 9241, 7544, 4762, 8562, 6097, 487, 5135, 7560, 8469, 433, 6468, 8287, 7064, 9653, 7074, 2346, 4696, 4789, 6740, 3193, 8525, 5610, 4287, 9378, 6104, 7665, 4906, 7087, 3516, 3026, 1372, 7689, 3297, 7583, 517, 5155, 9049, 7595, 8231, 5295, 5296, 299, 6535, 6216, 5166, 5622, 1455, 557, 5356, 4983, 4627, 4807, 4492, 9908, 6156, 781, 6317, 1447, 7772, 7265, 8125, 488, 6281, 7531, 2226, 2, 4234, 4610, 2590, 8288, 6169, 1684, 7494, 5381, 6478, 7769, 2458, 7625, 4742, 6934, 1599, 4494, 8909, 8949, 5944, 9120, 2028, 757, 5440] and stole 7466200$ in 23.91681539068532 hours \n",
      "\n"
     ]
    }
   ],
   "source": [
    "scenes = [\n",
    "    {\"scene\": \"Option 1: Most valuable banks\", \"df\": rich},\n",
    "    {\"scene\": \"Option 2: The fastest banks\", \"df\": quick}, \n",
    "    {\"scene\": \"Option 3: The closest banks\", \"df\": close}, \n",
    "    {\"scene\": \"Option 4: The furthest banks\", \"df\": far},\n",
    "    {\"scene\": \"Option 5: The best money/time ratio\", \"df\": ratio},\n",
    "    {\"scene\": \"Option 6: Random order!\", \"df\": random},\n",
    "    {\"scene\": \"Option 7: Filtered ratio\", \"df\": ratio2},]\n",
    "\n",
    "for i in range(len(scenes)):\n",
    "    print(f\"{scenes[i]['scene']}\\nResults:\\n{robbery(scenes[i]['df'])} \\n\")"
   ]
  },
  {
   "cell_type": "code",
   "execution_count": 46,
   "metadata": {},
   "outputs": [],
   "source": [
    "%run check_solution.py"
   ]
  },
  {
   "cell_type": "code",
   "execution_count": 49,
   "metadata": {
    "scrolled": true
   },
   "outputs": [
    {
     "name": "stdout",
     "output_type": "stream",
     "text": [
      "Time Remaining: 20.563380776130305\n"
     ]
    },
    {
     "data": {
      "text/plain": [
       "9200.0"
      ]
     },
     "execution_count": 49,
     "metadata": {},
     "output_type": "execute_result"
    }
   ],
   "source": [
    "check_solution([4848, 7265, 8125, 7421, 8789], rich)"
   ]
  },
  {
   "cell_type": "markdown",
   "metadata": {},
   "source": [
    "## Algorithm version 2.0"
   ]
  },
  {
   "cell_type": "code",
   "execution_count": 56,
   "metadata": {},
   "outputs": [],
   "source": [
    "# not perfected \n",
    "\n",
    "def robbery2(df):\n",
    "    \n",
    "    # results variables\n",
    "    banks_robbed = []\n",
    "    total = 0\n",
    "    time = 0\n",
    "    count = 0 \n",
    "    # always starting on first bank\n",
    "    current_bank = df.loc[0]\n",
    "     \n",
    "    while True:\n",
    "        count += 1\n",
    "        print(count)\n",
    "        #################\n",
    "        # Current Bank  #\n",
    "        #################\n",
    "\n",
    "        # distance to helicopter\n",
    "        x = current_bank[\"x_coordinate\"]\n",
    "        y = current_bank[\"y_coordinate\"]\n",
    "        distance = get_to_da_choppa(x, y)\n",
    "\n",
    "        # travel time to helicopter\n",
    "        helicopter = travel_time(distance)\n",
    "\n",
    "        # time it would take to rob the bank\n",
    "        rob = current_bank[\"time (hr)\"]\n",
    "\n",
    "        # check if current time taken + time to rob + time to travel would land us in jail or not\n",
    "        if time + helicopter + rob < MAX_TIME:\n",
    "\n",
    "            time += rob\n",
    "            banks_robbed.append(current_bank[\"id\"])\n",
    "            total += current_bank[\"money\"]\n",
    "\n",
    "        #################\n",
    "        #   Next Bank   #\n",
    "        #################\n",
    "\n",
    "        # calculating distance from current bank\n",
    "        for i in range(len(df)):\n",
    "\n",
    "            df.loc[i, \"distance\"] = ((current_bank[\"x_coordinate\"] - current_bank[\"x_coordinate\"]) ** 2 + (current_bank[\"y_coordinate\"] -current_bank[\"y_coordinate\"]) ** 2) ** 0.5\n",
    "            \n",
    "        df = df.sort_values(\"distance\").reset_index(drop = True)\n",
    "        search_radius = df.iloc[:50]\n",
    "\n",
    "        best_ratio = 0\n",
    "        next_target = 0\n",
    "        \n",
    "        for i in range(len(search_radius)):\n",
    "            df.loc[i, \"super ratio\"] = df.loc[i, \"money\"] / (travel_time(df.loc[i, \"distance\"]) + df.loc[i, \"time (hr)\"])\n",
    "        \n",
    "        # check for next target\n",
    "        for i in range(len(search_radius)):\n",
    "\n",
    "            if search_radius.iloc[i].id not in banks_robbed:\n",
    "\n",
    "                if search_radius.loc[i, \"super ratio\"] > best_ratio:\n",
    "\n",
    "                    best_ratio = search_radius.loc[i, \"super ratio\"]\n",
    "                    next_target = i\n",
    "\n",
    "        target = df.loc[next_target]\n",
    "        next_x = target[\"x_coordinate\"]\n",
    "        next_y = target[\"y_coordinate\"]\n",
    "        rob_next = target[\"time (hr)\"]\n",
    "\n",
    "        # travel time between current and next bank\n",
    "        distance_between = ((next_x - x) ** 2 + (next_y - y) ** 2) ** 0.5\n",
    "        travel_next = travel_time(distance_between)\n",
    "\n",
    "        # travel time between next bank and helicopter\n",
    "        to_helicopter = get_to_da_choppa(next_x, next_y)\n",
    "        helicopter_next = travel_time(to_helicopter)\n",
    "\n",
    "        # check to see if we have enough time for everything\n",
    "        if time + rob_next + travel_next + helicopter_next < MAX_TIME:\n",
    "\n",
    "            time += travel_next\n",
    "            current_bank = target\n",
    "\n",
    "        else:\n",
    "            break\n",
    "\n",
    "    time += helicopter\n",
    "                \n",
    "    return f\"You have visited {len(banks_robbed)} banks: {banks_robbed} and stole {total}$ in {time} hours\""
   ]
  },
  {
   "cell_type": "code",
   "execution_count": 55,
   "metadata": {},
   "outputs": [
    {
     "name": "stdout",
     "output_type": "stream",
     "text": [
      "1\n",
      "2\n",
      "3\n",
      "4\n",
      "5\n",
      "6\n",
      "7\n",
      "8\n",
      "9\n",
      "10\n",
      "11\n",
      "12\n",
      "13\n",
      "14\n",
      "15\n",
      "16\n",
      "17\n",
      "18\n",
      "19\n",
      "20\n",
      "21\n",
      "22\n",
      "23\n",
      "24\n",
      "25\n",
      "26\n",
      "27\n",
      "28\n",
      "29\n",
      "30\n",
      "31\n",
      "32\n",
      "33\n",
      "34\n",
      "35\n",
      "36\n",
      "37\n",
      "38\n",
      "39\n",
      "40\n",
      "41\n",
      "42\n",
      "43\n",
      "44\n"
     ]
    },
    {
     "data": {
      "text/plain": [
       "'You have visited 44 banks: [3613.0, 3613.0, 9546.0, 3509.0, 3803.0, 4005.0, 6528.0, 4699.0, 9583.0, 6463.0, 5933.0, 7935.0, 9195.0, 1031.0, 4757.0, 5003.0, 8550.0, 9312.0, 4499.0, 3023.0, 9241.0, 5344.0, 7343.0, 8207.0, 3798.0, 1417.0, 7544.0, 7121.0, 4762.0, 9346.0, 8436.0, 3013.0, 8562.0, 512.0, 6097.0, 9507.0, 2928.0, 362.0, 6468.0, 6195.0, 8287.0, 5361.0, 4725.0, 3534.0] and stole 1225100.0$ in 23.919190982333664 hours'"
      ]
     },
     "execution_count": 55,
     "metadata": {},
     "output_type": "execute_result"
    }
   ],
   "source": [
    "robbery2(ratio)"
   ]
  },
  {
   "cell_type": "code",
   "execution_count": null,
   "metadata": {},
   "outputs": [],
   "source": []
  }
 ],
 "metadata": {
  "kernelspec": {
   "display_name": "Python 3",
   "language": "python",
   "name": "python3"
  },
  "language_info": {
   "codemirror_mode": {
    "name": "ipython",
    "version": 3
   },
   "file_extension": ".py",
   "mimetype": "text/x-python",
   "name": "python",
   "nbconvert_exporter": "python",
   "pygments_lexer": "ipython3",
   "version": "3.7.6"
  }
 },
 "nbformat": 4,
 "nbformat_minor": 4
}
